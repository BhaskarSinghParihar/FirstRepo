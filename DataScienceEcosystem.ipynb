{
 "cells": [
  {
   "cell_type": "markdown",
   "id": "8ca58f54-1b9f-43fe-b2ba-1375fac11672",
   "metadata": {},
   "source": [
    "# Data Science Tools and Ecosystem"
   ]
  },
  {
   "cell_type": "markdown",
   "id": "dc6d0e4b-8132-4a35-be11-52dab808d570",
   "metadata": {},
   "source": [
    "In this notebook, Data Science Tools and Ecosystem are summarized."
   ]
  },
  {
   "cell_type": "markdown",
   "id": "26aa5fd2-758b-4385-b1c4-ab7b340acd79",
   "metadata": {},
   "source": [
    "### Objectives:\n",
    "* List popular languages for Data Science.\n",
    "* List common libraries used by Data Scientists.\n",
    "* List Data Science tools.\n",
    "* Give few examples of evaluating arithmetic expressions."
   ]
  },
  {
   "cell_type": "markdown",
   "id": "511e4628-505d-4f92-99b0-be45b7ddf0f2",
   "metadata": {},
   "source": [
    "##### Some of the popular languages that Data Scientists use are:\n",
    "* Java\n",
    "* Python\n",
    "* C++\n",
    "* R\n",
    "* SQL\n",
    "* Scala\n",
    "* Julia\n",
    "* JavaScript\n",
    "* PHP\n",
    "* Go\n",
    "* Ruby\n",
    "* Visual Basic"
   ]
  },
  {
   "cell_type": "markdown",
   "id": "8a9aba92-58f2-4b4f-a592-f5f5b86945b7",
   "metadata": {},
   "source": [
    "##### Some of the commonly used libraries used by Data Scientists include:\n",
    "* Matplotlib\n",
    "* Numpy\n",
    "* Scipy\n",
    "* Pandas\n",
    "* Seaborn\n",
    "* Scikit-learn\n",
    "* Keras\n",
    "* TensorFlow\n",
    "* PyTorch\n",
    "* Apache Spark\n",
    "* Vegas\n",
    "* Big DL\n",
    "* Ggplot2"
   ]
  },
  {
   "cell_type": "markdown",
   "id": "07637edf-3cf5-4bd7-b9bb-a12a34f299c3",
   "metadata": {},
   "source": [
    "| Data Science Tools |\n",
    "| ------------------ |\n",
    "| Anaconda |\n",
    "| Jupyter Notebook |\n",
    "| RStudio |\n",
    "| VS Code (with Python extensions)|\n",
    "| Spyder |\n",
    "| Zeppelin |"
   ]
  },
  {
   "cell_type": "markdown",
   "id": "3a1cfc74-d0c7-4a3b-b6c1-a0018a2bfea9",
   "metadata": {},
   "source": [
    "##### Below are a few examples of evaluating arithmetic expressions in Python"
   ]
  },
  {
   "cell_type": "code",
   "execution_count": 3,
   "id": "baf24bda-43da-4c5b-b61d-f7e096e32a9b",
   "metadata": {},
   "outputs": [
    {
     "data": {
      "text/plain": [
       "17"
      ]
     },
     "execution_count": 3,
     "metadata": {},
     "output_type": "execute_result"
    }
   ],
   "source": [
    "# This is a simple arithmetic expression to multiply and then add integers.\n",
    "(3*4)+5"
   ]
  },
  {
   "cell_type": "code",
   "execution_count": 4,
   "id": "bc6d3d75-79b1-49f8-86f5-658a5319a63f",
   "metadata": {},
   "outputs": [
    {
     "data": {
      "text/plain": [
       "3.3333333333333335"
      ]
     },
     "execution_count": 4,
     "metadata": {},
     "output_type": "execute_result"
    }
   ],
   "source": [
    "# This will convert 200 minutes to hours by diving by 60.\n",
    "200/60"
   ]
  },
  {
   "cell_type": "markdown",
   "id": "497eb820-4775-4762-9a71-5f6316867185",
   "metadata": {},
   "source": [
    "## Author\n",
    "Bhaskar Singh Parihar"
   ]
  },
  {
   "cell_type": "code",
   "execution_count": null,
   "id": "20fdb921-b23b-4f03-83b6-c21df9d56171",
   "metadata": {},
   "outputs": [],
   "source": []
  }
 ],
 "metadata": {
  "kernelspec": {
   "display_name": "Python [conda env:base] *",
   "language": "python",
   "name": "conda-base-py"
  },
  "language_info": {
   "codemirror_mode": {
    "name": "ipython",
    "version": 3
   },
   "file_extension": ".py",
   "mimetype": "text/x-python",
   "name": "python",
   "nbconvert_exporter": "python",
   "pygments_lexer": "ipython3",
   "version": "3.12.7"
  }
 },
 "nbformat": 4,
 "nbformat_minor": 5
}
